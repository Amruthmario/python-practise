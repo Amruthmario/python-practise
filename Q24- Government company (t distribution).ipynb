{
 "cells": [
  {
   "cell_type": "code",
   "execution_count": 1,
   "id": "efc72265",
   "metadata": {
    "ExecuteTime": {
     "end_time": "2023-02-08T17:21:21.323300Z",
     "start_time": "2023-02-08T17:21:21.293788Z"
    }
   },
   "outputs": [],
   "source": [
    "# avg light bulb 270 days selected 18 bulbs for testing.\n",
    "# sample avg is 260 days \n",
    "# standard deviation 90 days\n",
    "# probabilty is 18 (degree of freedom)\n",
    "# selected bulbs of an avg no more than 260 days "
   ]
  },
  {
   "cell_type": "code",
   "execution_count": 3,
   "id": "fe28969f",
   "metadata": {
    "ExecuteTime": {
     "end_time": "2023-02-08T17:23:35.400508Z",
     "start_time": "2023-02-08T17:23:35.394376Z"
    }
   },
   "outputs": [],
   "source": [
    "# null hypothesis Ho = avg life bulb >= 260 days\n",
    "# alternative hypothesis Ha = avg life bulb <260 days"
   ]
  },
  {
   "cell_type": "code",
   "execution_count": 5,
   "id": "d44d875d",
   "metadata": {
    "ExecuteTime": {
     "end_time": "2023-02-08T17:25:39.123084Z",
     "start_time": "2023-02-08T17:25:39.106762Z"
    }
   },
   "outputs": [],
   "source": [
    "x= 260 \n",
    "# df = n-1 = 17  \n",
    "n = 18 "
   ]
  },
  {
   "cell_type": "code",
   "execution_count": 7,
   "id": "c435edbe",
   "metadata": {
    "ExecuteTime": {
     "end_time": "2023-02-08T17:26:35.958764Z",
     "start_time": "2023-02-08T17:26:35.937915Z"
    }
   },
   "outputs": [],
   "source": [
    "from scipy import stats\n",
    "from scipy.stats import norm "
   ]
  },
  {
   "cell_type": "code",
   "execution_count": 16,
   "id": "4683c163",
   "metadata": {
    "ExecuteTime": {
     "end_time": "2023-02-08T17:33:30.506136Z",
     "start_time": "2023-02-08T17:33:30.490174Z"
    }
   },
   "outputs": [
    {
     "data": {
      "text/plain": [
       "4.242640687119285"
      ]
     },
     "execution_count": 16,
     "metadata": {},
     "output_type": "execute_result"
    }
   ],
   "source": [
    "import math\n",
    "math.sqrt(18)"
   ]
  },
  {
   "cell_type": "code",
   "execution_count": 19,
   "id": "8b4c3fdb",
   "metadata": {
    "ExecuteTime": {
     "end_time": "2023-02-08T17:34:08.886366Z",
     "start_time": "2023-02-08T17:34:08.861998Z"
    }
   },
   "outputs": [
    {
     "data": {
      "text/plain": [
       "-0.47111111111111115"
      ]
     },
     "execution_count": 19,
     "metadata": {},
     "output_type": "execute_result"
    }
   ],
   "source": [
    "t=(260-270)/(90/4.24)\n",
    "t "
   ]
  },
  {
   "cell_type": "code",
   "execution_count": 34,
   "id": "fd5f9acb",
   "metadata": {
    "ExecuteTime": {
     "end_time": "2023-02-08T17:40:12.069183Z",
     "start_time": "2023-02-08T17:40:12.052161Z"
    }
   },
   "outputs": [
    {
     "data": {
      "text/plain": [
       "1.07383947675487"
      ]
     },
     "execution_count": 34,
     "metadata": {},
     "output_type": "execute_result"
    }
   ],
   "source": [
    "# P(X >= 260)\n",
    "p_value=1-stats.t.ppf(abs(-0.471),17)\n",
    "p_value"
   ]
  },
  {
   "cell_type": "code",
   "execution_count": 36,
   "id": "5e0b30b2",
   "metadata": {
    "ExecuteTime": {
     "end_time": "2023-02-08T17:40:28.419952Z",
     "start_time": "2023-02-08T17:40:28.404562Z"
    }
   },
   "outputs": [
    {
     "data": {
      "text/plain": [
       "0.32181403316850754"
      ]
     },
     "execution_count": 36,
     "metadata": {},
     "output_type": "execute_result"
    }
   ],
   "source": [
    "p_value=1-stats.t.cdf(abs(-0.471),17)\n",
    "p_value"
   ]
  },
  {
   "cell_type": "code",
   "execution_count": 37,
   "id": "4e0885c7",
   "metadata": {
    "ExecuteTime": {
     "end_time": "2023-02-08T17:41:02.715373Z",
     "start_time": "2023-02-08T17:41:02.700318Z"
    }
   },
   "outputs": [
    {
     "data": {
      "text/plain": [
       "0.32181403316850754"
      ]
     },
     "execution_count": 37,
     "metadata": {},
     "output_type": "execute_result"
    }
   ],
   "source": [
    "p_value=1-stats.t.sf((-0.471),17)\n",
    "p_value"
   ]
  }
 ],
 "metadata": {
  "kernelspec": {
   "display_name": "Python 3 (ipykernel)",
   "language": "python",
   "name": "python3"
  },
  "language_info": {
   "codemirror_mode": {
    "name": "ipython",
    "version": 3
   },
   "file_extension": ".py",
   "mimetype": "text/x-python",
   "name": "python",
   "nbconvert_exporter": "python",
   "pygments_lexer": "ipython3",
   "version": "3.9.13"
  }
 },
 "nbformat": 4,
 "nbformat_minor": 5
}
