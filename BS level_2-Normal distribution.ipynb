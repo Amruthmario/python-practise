{
 "cells": [
  {
   "cell_type": "code",
   "execution_count": 9,
   "id": "8d29fdc8",
   "metadata": {
    "ExecuteTime": {
     "end_time": "2023-02-09T17:33:56.269095Z",
     "start_time": "2023-02-09T17:33:56.244596Z"
    }
   },
   "outputs": [
    {
     "data": {
      "text/plain": [
       "0.26598552904870054"
      ]
     },
     "execution_count": 9,
     "metadata": {},
     "output_type": "execute_result"
    }
   ],
   "source": [
    "# Q1)\n",
    "# to work begin 10 min that is 45 min- 55min.\n",
    "from scipy import stats\n",
    "1-stats.norm.cdf(60,55,8)"
   ]
  },
  {
   "cell_type": "code",
   "execution_count": 4,
   "id": "2c8a220d",
   "metadata": {
    "ExecuteTime": {
     "end_time": "2023-02-09T17:17:41.596859Z",
     "start_time": "2023-02-09T17:17:41.572123Z"
    }
   },
   "outputs": [
    {
     "data": {
      "text/plain": [
       "0.625"
      ]
     },
     "execution_count": 4,
     "metadata": {},
     "output_type": "execute_result"
    }
   ],
   "source": [
    "z=(60-55)/8\n",
    "z "
   ]
  },
  {
   "cell_type": "code",
   "execution_count": 5,
   "id": "9d9f5876",
   "metadata": {
    "ExecuteTime": {
     "end_time": "2023-02-09T17:26:53.124331Z",
     "start_time": "2023-02-09T17:26:51.454450Z"
    }
   },
   "outputs": [],
   "source": [
    "# Q2) \n",
    "import pandas as pd \n",
    "import numpy as np\n",
    "from scipy import stats\n",
    "from scipy.stats import norm"
   ]
  },
  {
   "cell_type": "code",
   "execution_count": 6,
   "id": "c6ec7eef",
   "metadata": {
    "ExecuteTime": {
     "end_time": "2023-02-09T17:30:09.901931Z",
     "start_time": "2023-02-09T17:30:09.873109Z"
    }
   },
   "outputs": [
    {
     "data": {
      "text/plain": [
       "0.15865525393145707"
      ]
     },
     "execution_count": 6,
     "metadata": {},
     "output_type": "execute_result"
    }
   ],
   "source": [
    "# condition 1: more employers are older than 44 \n",
    "# u = 38 , std = 6\n",
    "# P(X>44):\n",
    "1-stats.norm.cdf(44,38,6)"
   ]
  },
  {
   "cell_type": "code",
   "execution_count": 10,
   "id": "49b06243",
   "metadata": {
    "ExecuteTime": {
     "end_time": "2023-02-09T17:38:20.144321Z",
     "start_time": "2023-02-09T17:38:20.128303Z"
    }
   },
   "outputs": [
    {
     "data": {
      "text/plain": [
       "336.0378984274172"
      ]
     },
     "execution_count": 10,
     "metadata": {},
     "output_type": "execute_result"
    }
   ],
   "source": [
    "# P(38<X<44):\n",
    "stats.norm.cdf(44,38,6)-stats.norm.cdf(38,38,6)\n",
    "400*stats.norm.cdf(44,38,6)-stats.norm.cdf(38,38,6)"
   ]
  },
  {
   "cell_type": "code",
   "execution_count": 8,
   "id": "c4f0ded6",
   "metadata": {
    "ExecuteTime": {
     "end_time": "2023-02-09T17:32:53.628530Z",
     "start_time": "2023-02-09T17:32:53.608302Z"
    }
   },
   "outputs": [
    {
     "data": {
      "text/plain": [
       "0.09121121972586788"
      ]
     },
     "execution_count": 8,
     "metadata": {},
     "output_type": "execute_result"
    }
   ],
   "source": [
    "# condition 2: under the age of 30 expected to attract about 36 empolyees\n",
    "# P(X<30):\n",
    "stats.norm.cdf(30,38,6)"
   ]
  },
  {
   "cell_type": "code",
   "execution_count": 12,
   "id": "43a0c114",
   "metadata": {
    "ExecuteTime": {
     "end_time": "2023-02-09T17:39:27.142867Z",
     "start_time": "2023-02-09T17:39:27.131889Z"
    }
   },
   "outputs": [
    {
     "data": {
      "text/plain": [
       "136.53789842741716"
      ]
     },
     "execution_count": 12,
     "metadata": {},
     "output_type": "execute_result"
    }
   ],
   "source": [
    "# The current age (in years) of 400 to be added to norm \n",
    "400*(stats.norm.cdf(44,38,6)-stats.norm.cdf(38,38,6))"
   ]
  },
  {
   "cell_type": "code",
   "execution_count": 17,
   "id": "004c15da",
   "metadata": {
    "ExecuteTime": {
     "end_time": "2023-02-09T17:40:24.009174Z",
     "start_time": "2023-02-09T17:40:23.978988Z"
    }
   },
   "outputs": [
    {
     "data": {
      "text/plain": [
       "336.5378984274172"
      ]
     },
     "execution_count": 17,
     "metadata": {},
     "output_type": "execute_result"
    }
   ],
   "source": [
    "400*(stats.norm.cdf(44,38,6))"
   ]
  },
  {
   "cell_type": "code",
   "execution_count": 18,
   "id": "eaa9dd0c",
   "metadata": {
    "ExecuteTime": {
     "end_time": "2023-02-09T17:40:44.623748Z",
     "start_time": "2023-02-09T17:40:44.596782Z"
    }
   },
   "outputs": [
    {
     "data": {
      "text/plain": [
       "36.484487890347154"
      ]
     },
     "execution_count": 18,
     "metadata": {},
     "output_type": "execute_result"
    }
   ],
   "source": [
    "400*stats.norm.cdf(30,38,6)"
   ]
  },
  {
   "cell_type": "code",
   "execution_count": 1,
   "id": "214ff213",
   "metadata": {
    "ExecuteTime": {
     "end_time": "2023-02-12T14:36:08.297620Z",
     "start_time": "2023-02-12T14:36:04.058811Z"
    }
   },
   "outputs": [],
   "source": [
    "# Q4)\n",
    "import pandas as pd \n",
    "import numpy as np\n",
    "from scipy import stats \n",
    "from scipy.stats import norm "
   ]
  },
  {
   "cell_type": "code",
   "execution_count": 2,
   "id": "583a1538",
   "metadata": {
    "ExecuteTime": {
     "end_time": "2023-02-12T14:36:36.795044Z",
     "start_time": "2023-02-12T14:36:36.758505Z"
    }
   },
   "outputs": [
    {
     "data": {
      "text/plain": [
       "(48.48341392902199, 151.516586070978)"
      ]
     },
     "execution_count": 2,
     "metadata": {},
     "output_type": "execute_result"
    }
   ],
   "source": [
    "stats.norm.interval(0.99,100,20)"
   ]
  },
  {
   "cell_type": "code",
   "execution_count": 9,
   "id": "57c71ea7",
   "metadata": {
    "ExecuteTime": {
     "end_time": "2023-02-12T14:41:50.253919Z",
     "start_time": "2023-02-12T14:41:50.240423Z"
    }
   },
   "outputs": [],
   "source": [
    "#Q5)\n",
    "import numpy as np\n",
    "from scipy import stats \n",
    "from scipy.stats import norm "
   ]
  },
  {
   "cell_type": "code",
   "execution_count": 12,
   "id": "7574d92b",
   "metadata": {
    "ExecuteTime": {
     "end_time": "2023-02-12T14:47:11.396580Z",
     "start_time": "2023-02-12T14:47:11.383587Z"
    }
   },
   "outputs": [
    {
     "name": "stdout",
     "output_type": "stream",
     "text": [
      "540\n"
     ]
    }
   ],
   "source": [
    "# the mean profit of two divions companies\n",
    "mean=5+7\n",
    "print(mean*45)"
   ]
  },
  {
   "cell_type": "code",
   "execution_count": 15,
   "id": "5251881a",
   "metadata": {
    "ExecuteTime": {
     "end_time": "2023-02-12T14:49:43.127518Z",
     "start_time": "2023-02-12T14:49:43.114523Z"
    }
   },
   "outputs": [
    {
     "name": "stdout",
     "output_type": "stream",
     "text": [
      "225.0\n"
     ]
    }
   ],
   "source": [
    "# variance of two companies between 3^2 and 4^2\n",
    "VAR=np.sqrt((9)+(16))\n",
    "print(VAR*45)"
   ]
  },
  {
   "cell_type": "code",
   "execution_count": 18,
   "id": "90b95f99",
   "metadata": {
    "ExecuteTime": {
     "end_time": "2023-02-12T14:53:15.436461Z",
     "start_time": "2023-02-12T14:53:15.413718Z"
    }
   },
   "outputs": [
    {
     "data": {
      "text/plain": [
       "(99.00810347848784, 980.9918965215122)"
      ]
     },
     "execution_count": 18,
     "metadata": {},
     "output_type": "execute_result"
    }
   ],
   "source": [
    "# A.Range with 95% probability for the annual profit of the company\n",
    "stats.norm.interval(0.95,540,225)"
   ]
  },
  {
   "cell_type": "code",
   "execution_count": 21,
   "id": "f55f028b",
   "metadata": {
    "ExecuteTime": {
     "end_time": "2023-02-12T14:56:45.247703Z",
     "start_time": "2023-02-12T14:56:45.229129Z"
    }
   },
   "outputs": [
    {
     "name": "stdout",
     "output_type": "stream",
     "text": [
      "170.0\n"
     ]
    }
   ],
   "source": [
    "# B.for the 5th percentile of profit for company\n",
    "# for z percentile it is Z=-1.645\n",
    "X= 540+(-1.645)*(225)\n",
    "print(np.round(X,))"
   ]
  },
  {
   "cell_type": "code",
   "execution_count": 23,
   "id": "879c566f",
   "metadata": {
    "ExecuteTime": {
     "end_time": "2023-02-12T14:58:46.813353Z",
     "start_time": "2023-02-12T14:58:46.782959Z"
    }
   },
   "outputs": [
    {
     "data": {
      "text/plain": [
       "0.0477903522728147"
      ]
     },
     "execution_count": 23,
     "metadata": {},
     "output_type": "execute_result"
    }
   ],
   "source": [
    "# C.two divisions for checking the probability of making a loss in a given year\n",
    "# division 1 making a loss P(X<0)\n",
    "stats.norm.cdf(0,5,3)"
   ]
  },
  {
   "cell_type": "code",
   "execution_count": 24,
   "id": "a8b69864",
   "metadata": {
    "ExecuteTime": {
     "end_time": "2023-02-12T14:59:31.804843Z",
     "start_time": "2023-02-12T14:59:31.781821Z"
    }
   },
   "outputs": [
    {
     "data": {
      "text/plain": [
       "0.040059156863817086"
      ]
     },
     "execution_count": 24,
     "metadata": {},
     "output_type": "execute_result"
    }
   ],
   "source": [
    "# division 2 making a loss P(X<0)\n",
    "stats.norm.cdf(0,7,4)"
   ]
  },
  {
   "cell_type": "code",
   "execution_count": null,
   "id": "71f73e52",
   "metadata": {},
   "outputs": [],
   "source": []
  }
 ],
 "metadata": {
  "kernelspec": {
   "display_name": "Python 3 (ipykernel)",
   "language": "python",
   "name": "python3"
  },
  "language_info": {
   "codemirror_mode": {
    "name": "ipython",
    "version": 3
   },
   "file_extension": ".py",
   "mimetype": "text/x-python",
   "name": "python",
   "nbconvert_exporter": "python",
   "pygments_lexer": "ipython3",
   "version": "3.9.13"
  }
 },
 "nbformat": 4,
 "nbformat_minor": 5
}
