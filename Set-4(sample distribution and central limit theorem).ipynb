{
 "cells": [
  {
   "cell_type": "code",
   "execution_count": 1,
   "id": "14154e21",
   "metadata": {
    "ExecuteTime": {
     "end_time": "2023-02-13T13:09:19.218088Z",
     "start_time": "2023-02-13T13:09:15.832506Z"
    }
   },
   "outputs": [],
   "source": [
    "import pandas as pd \n",
    "import numpy as np\n",
    "import matplotlib.pyplot as plt\n",
    "import scipy.stats as stats"
   ]
  },
  {
   "cell_type": "code",
   "execution_count": 18,
   "id": "a3105666",
   "metadata": {
    "ExecuteTime": {
     "end_time": "2023-02-13T13:28:49.744865Z",
     "start_time": "2023-02-13T13:28:49.728820Z"
    }
   },
   "outputs": [],
   "source": [
    "#Q3)\n",
    "mean=50\n",
    "std=40\n",
    "n=100"
   ]
  },
  {
   "cell_type": "code",
   "execution_count": 21,
   "id": "821e795f",
   "metadata": {
    "ExecuteTime": {
     "end_time": "2023-02-13T13:34:13.247638Z",
     "start_time": "2023-02-13T13:34:13.231129Z"
    }
   },
   "outputs": [
    {
     "data": {
      "text/plain": [
       "1.25"
      ]
     },
     "execution_count": 21,
     "metadata": {},
     "output_type": "execute_result"
    }
   ],
   "source": [
    "# for 55 z score\n",
    "z_55=(55-50)/(40/np.sqrt(100))\n",
    "z_55"
   ]
  },
  {
   "cell_type": "code",
   "execution_count": 22,
   "id": "e843d979",
   "metadata": {
    "ExecuteTime": {
     "end_time": "2023-02-13T13:34:31.740951Z",
     "start_time": "2023-02-13T13:34:31.722559Z"
    }
   },
   "outputs": [
    {
     "data": {
      "text/plain": [
       "-1.25"
      ]
     },
     "execution_count": 22,
     "metadata": {},
     "output_type": "execute_result"
    }
   ],
   "source": [
    "z_45=(45-50)/(40/np.sqrt(100))\n",
    "z_45"
   ]
  },
  {
   "cell_type": "code",
   "execution_count": 7,
   "id": "e0aceed0",
   "metadata": {
    "ExecuteTime": {
     "end_time": "2023-02-13T13:15:54.779641Z",
     "start_time": "2023-02-13T13:15:54.747345Z"
    }
   },
   "outputs": [
    {
     "data": {
      "text/plain": [
       "0.8943502263331446"
      ]
     },
     "execution_count": 7,
     "metadata": {},
     "output_type": "execute_result"
    }
   ],
   "source": [
    "# for probability of 55 USD\n",
    "stats.norm.cdf(1.25)"
   ]
  },
  {
   "cell_type": "code",
   "execution_count": 8,
   "id": "5a461ad5",
   "metadata": {
    "ExecuteTime": {
     "end_time": "2023-02-13T13:16:10.269762Z",
     "start_time": "2023-02-13T13:16:10.237735Z"
    }
   },
   "outputs": [
    {
     "data": {
      "text/plain": [
       "0.10564977366685535"
      ]
     },
     "execution_count": 8,
     "metadata": {},
     "output_type": "execute_result"
    }
   ],
   "source": [
    "# for probability of 45 USD\n",
    "stats.norm.cdf(-1.25)"
   ]
  },
  {
   "cell_type": "code",
   "execution_count": 12,
   "id": "9b61a602",
   "metadata": {
    "ExecuteTime": {
     "end_time": "2023-02-13T13:22:18.950540Z",
     "start_time": "2023-02-13T13:22:18.926126Z"
    }
   },
   "outputs": [
    {
     "data": {
      "text/plain": [
       "0.7887004526662893"
      ]
     },
     "execution_count": 12,
     "metadata": {},
     "output_type": "execute_result"
    }
   ],
   "source": [
    "# differnce between P(45<X<55)\n",
    "stats_cdf=stats.norm.cdf(1.25)-stats.norm.cdf(-1.25)\n",
    "stats_cdf"
   ]
  },
  {
   "cell_type": "code",
   "execution_count": 15,
   "id": "b784a16c",
   "metadata": {
    "ExecuteTime": {
     "end_time": "2023-02-13T13:27:25.299994Z",
     "start_time": "2023-02-13T13:27:25.275342Z"
    }
   },
   "outputs": [
    {
     "data": {
      "text/plain": [
       "(-1.1215281200366105, 1.3315281200366105)"
      ]
     },
     "execution_count": 15,
     "metadata": {},
     "output_type": "execute_result"
    }
   ],
   "source": [
    "stats.norm.interval(0.78,0.105)"
   ]
  },
  {
   "cell_type": "code",
   "execution_count": 16,
   "id": "06e6edd0",
   "metadata": {
    "ExecuteTime": {
     "end_time": "2023-02-13T13:27:58.768107Z",
     "start_time": "2023-02-13T13:27:58.743044Z"
    }
   },
   "outputs": [
    {
     "data": {
      "text/plain": [
       "0.2112995473337107"
      ]
     },
     "execution_count": 16,
     "metadata": {},
     "output_type": "execute_result"
    }
   ],
   "source": [
    "1-stats_cdf"
   ]
  },
  {
   "cell_type": "code",
   "execution_count": 28,
   "id": "b6f86875",
   "metadata": {
    "ExecuteTime": {
     "end_time": "2023-02-13T14:06:48.493227Z",
     "start_time": "2023-02-13T14:06:48.481170Z"
    }
   },
   "outputs": [],
   "source": [
    "# Q4)\n",
    "x1 = 45\n",
    "x2 = 40\n",
    "mean = 50"
   ]
  },
  {
   "cell_type": "code",
   "execution_count": 42,
   "id": "bf5b9fdb",
   "metadata": {
    "ExecuteTime": {
     "end_time": "2023-02-13T14:35:39.882934Z",
     "start_time": "2023-02-13T14:35:39.865050Z"
    }
   },
   "outputs": [
    {
     "data": {
      "text/plain": [
       "3.650996151677261"
      ]
     },
     "execution_count": 42,
     "metadata": {},
     "output_type": "execute_result"
    }
   ],
   "source": [
    "t=stats.t.ppf(0.95,249,2)\n",
    "t "
   ]
  },
  {
   "cell_type": "code",
   "execution_count": 44,
   "id": "a5bc0ba5",
   "metadata": {
    "ExecuteTime": {
     "end_time": "2023-02-13T14:38:14.820613Z",
     "start_time": "2023-02-13T14:38:14.804301Z"
    }
   },
   "outputs": [
    {
     "data": {
      "text/plain": [
       "246.0"
      ]
     },
     "execution_count": 44,
     "metadata": {},
     "output_type": "execute_result"
    }
   ],
   "source": [
    "#1.96 = 5/(40/sqrt(n))\n",
    "# z= (sample_mean - population mean)/(standard deviation/sqrt(n))\n",
    "n=((1.96*40)/5)**2\n",
    "n \n",
    "np.round(n)"
   ]
  },
  {
   "cell_type": "code",
   "execution_count": 47,
   "id": "cc354b70",
   "metadata": {
    "ExecuteTime": {
     "end_time": "2023-02-13T14:52:09.189687Z",
     "start_time": "2023-02-13T14:52:09.182439Z"
    }
   },
   "outputs": [
    {
     "data": {
      "text/plain": [
       "0.6"
      ]
     },
     "execution_count": 47,
     "metadata": {},
     "output_type": "execute_result"
    }
   ],
   "source": [
    "# Q5)\n",
    "# std = 120 \n",
    "# n=40000\n",
    "z=120/np.sqrt(40000)\n",
    "z "
   ]
  },
  {
   "cell_type": "code",
   "execution_count": null,
   "id": "86685d51",
   "metadata": {},
   "outputs": [],
   "source": []
  }
 ],
 "metadata": {
  "kernelspec": {
   "display_name": "Python 3 (ipykernel)",
   "language": "python",
   "name": "python3"
  },
  "language_info": {
   "codemirror_mode": {
    "name": "ipython",
    "version": 3
   },
   "file_extension": ".py",
   "mimetype": "text/x-python",
   "name": "python",
   "nbconvert_exporter": "python",
   "pygments_lexer": "ipython3",
   "version": "3.9.13"
  }
 },
 "nbformat": 4,
 "nbformat_minor": 5
}
