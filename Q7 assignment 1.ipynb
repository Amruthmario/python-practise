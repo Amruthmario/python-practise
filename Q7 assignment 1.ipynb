{
 "cells": [
  {
   "cell_type": "code",
   "execution_count": 2,
   "id": "fc930af5",
   "metadata": {
    "ExecuteTime": {
     "end_time": "2023-02-06T14:56:52.832023Z",
     "start_time": "2023-02-06T14:56:50.332245Z"
    }
   },
   "outputs": [],
   "source": [
    "import pandas as pd \n",
    "import numpy as np "
   ]
  },
  {
   "cell_type": "code",
   "execution_count": 3,
   "id": "8b97416f",
   "metadata": {
    "ExecuteTime": {
     "end_time": "2023-02-06T14:56:52.995838Z",
     "start_time": "2023-02-06T14:56:52.846835Z"
    }
   },
   "outputs": [
    {
     "data": {
      "text/html": [
       "<div>\n",
       "<style scoped>\n",
       "    .dataframe tbody tr th:only-of-type {\n",
       "        vertical-align: middle;\n",
       "    }\n",
       "\n",
       "    .dataframe tbody tr th {\n",
       "        vertical-align: top;\n",
       "    }\n",
       "\n",
       "    .dataframe thead th {\n",
       "        text-align: right;\n",
       "    }\n",
       "</style>\n",
       "<table border=\"1\" class=\"dataframe\">\n",
       "  <thead>\n",
       "    <tr style=\"text-align: right;\">\n",
       "      <th></th>\n",
       "      <th>Unnamed: 0</th>\n",
       "      <th>Points</th>\n",
       "      <th>Score</th>\n",
       "      <th>Weigh</th>\n",
       "    </tr>\n",
       "  </thead>\n",
       "  <tbody>\n",
       "    <tr>\n",
       "      <th>0</th>\n",
       "      <td>Mazda RX4</td>\n",
       "      <td>3.90</td>\n",
       "      <td>2.620</td>\n",
       "      <td>16.46</td>\n",
       "    </tr>\n",
       "    <tr>\n",
       "      <th>1</th>\n",
       "      <td>Mazda RX4 Wag</td>\n",
       "      <td>3.90</td>\n",
       "      <td>2.875</td>\n",
       "      <td>17.02</td>\n",
       "    </tr>\n",
       "    <tr>\n",
       "      <th>2</th>\n",
       "      <td>Datsun 710</td>\n",
       "      <td>3.85</td>\n",
       "      <td>2.320</td>\n",
       "      <td>18.61</td>\n",
       "    </tr>\n",
       "    <tr>\n",
       "      <th>3</th>\n",
       "      <td>Hornet 4 Drive</td>\n",
       "      <td>3.08</td>\n",
       "      <td>3.215</td>\n",
       "      <td>19.44</td>\n",
       "    </tr>\n",
       "    <tr>\n",
       "      <th>4</th>\n",
       "      <td>Hornet Sportabout</td>\n",
       "      <td>3.15</td>\n",
       "      <td>3.440</td>\n",
       "      <td>17.02</td>\n",
       "    </tr>\n",
       "    <tr>\n",
       "      <th>5</th>\n",
       "      <td>Valiant</td>\n",
       "      <td>2.76</td>\n",
       "      <td>3.460</td>\n",
       "      <td>20.22</td>\n",
       "    </tr>\n",
       "    <tr>\n",
       "      <th>6</th>\n",
       "      <td>Duster 360</td>\n",
       "      <td>3.21</td>\n",
       "      <td>3.570</td>\n",
       "      <td>15.84</td>\n",
       "    </tr>\n",
       "    <tr>\n",
       "      <th>7</th>\n",
       "      <td>Merc 240D</td>\n",
       "      <td>3.69</td>\n",
       "      <td>3.190</td>\n",
       "      <td>20.00</td>\n",
       "    </tr>\n",
       "    <tr>\n",
       "      <th>8</th>\n",
       "      <td>Merc 230</td>\n",
       "      <td>3.92</td>\n",
       "      <td>3.150</td>\n",
       "      <td>22.90</td>\n",
       "    </tr>\n",
       "    <tr>\n",
       "      <th>9</th>\n",
       "      <td>Merc 280</td>\n",
       "      <td>3.92</td>\n",
       "      <td>3.440</td>\n",
       "      <td>18.30</td>\n",
       "    </tr>\n",
       "    <tr>\n",
       "      <th>10</th>\n",
       "      <td>Merc 280C</td>\n",
       "      <td>3.92</td>\n",
       "      <td>3.440</td>\n",
       "      <td>18.90</td>\n",
       "    </tr>\n",
       "    <tr>\n",
       "      <th>11</th>\n",
       "      <td>Merc 450SE</td>\n",
       "      <td>3.07</td>\n",
       "      <td>4.070</td>\n",
       "      <td>17.40</td>\n",
       "    </tr>\n",
       "    <tr>\n",
       "      <th>12</th>\n",
       "      <td>Merc 450SL</td>\n",
       "      <td>3.07</td>\n",
       "      <td>3.730</td>\n",
       "      <td>17.60</td>\n",
       "    </tr>\n",
       "    <tr>\n",
       "      <th>13</th>\n",
       "      <td>Merc 450SLC</td>\n",
       "      <td>3.07</td>\n",
       "      <td>3.780</td>\n",
       "      <td>18.00</td>\n",
       "    </tr>\n",
       "    <tr>\n",
       "      <th>14</th>\n",
       "      <td>Cadillac Fleetwood</td>\n",
       "      <td>2.93</td>\n",
       "      <td>5.250</td>\n",
       "      <td>17.98</td>\n",
       "    </tr>\n",
       "    <tr>\n",
       "      <th>15</th>\n",
       "      <td>Lincoln Continental</td>\n",
       "      <td>3.00</td>\n",
       "      <td>5.424</td>\n",
       "      <td>17.82</td>\n",
       "    </tr>\n",
       "    <tr>\n",
       "      <th>16</th>\n",
       "      <td>Chrysler Imperial</td>\n",
       "      <td>3.23</td>\n",
       "      <td>5.345</td>\n",
       "      <td>17.42</td>\n",
       "    </tr>\n",
       "    <tr>\n",
       "      <th>17</th>\n",
       "      <td>Fiat 128</td>\n",
       "      <td>4.08</td>\n",
       "      <td>2.200</td>\n",
       "      <td>19.47</td>\n",
       "    </tr>\n",
       "    <tr>\n",
       "      <th>18</th>\n",
       "      <td>Honda Civic</td>\n",
       "      <td>4.93</td>\n",
       "      <td>1.615</td>\n",
       "      <td>18.52</td>\n",
       "    </tr>\n",
       "    <tr>\n",
       "      <th>19</th>\n",
       "      <td>Toyota Corolla</td>\n",
       "      <td>4.22</td>\n",
       "      <td>1.835</td>\n",
       "      <td>19.90</td>\n",
       "    </tr>\n",
       "    <tr>\n",
       "      <th>20</th>\n",
       "      <td>Toyota Corona</td>\n",
       "      <td>3.70</td>\n",
       "      <td>2.465</td>\n",
       "      <td>20.01</td>\n",
       "    </tr>\n",
       "    <tr>\n",
       "      <th>21</th>\n",
       "      <td>Dodge Challenger</td>\n",
       "      <td>2.76</td>\n",
       "      <td>3.520</td>\n",
       "      <td>16.87</td>\n",
       "    </tr>\n",
       "    <tr>\n",
       "      <th>22</th>\n",
       "      <td>AMC Javelin</td>\n",
       "      <td>3.15</td>\n",
       "      <td>3.435</td>\n",
       "      <td>17.30</td>\n",
       "    </tr>\n",
       "    <tr>\n",
       "      <th>23</th>\n",
       "      <td>Camaro Z28</td>\n",
       "      <td>3.73</td>\n",
       "      <td>3.840</td>\n",
       "      <td>15.41</td>\n",
       "    </tr>\n",
       "    <tr>\n",
       "      <th>24</th>\n",
       "      <td>Pontiac Firebird</td>\n",
       "      <td>3.08</td>\n",
       "      <td>3.845</td>\n",
       "      <td>17.05</td>\n",
       "    </tr>\n",
       "    <tr>\n",
       "      <th>25</th>\n",
       "      <td>Fiat X1-9</td>\n",
       "      <td>4.08</td>\n",
       "      <td>1.935</td>\n",
       "      <td>18.90</td>\n",
       "    </tr>\n",
       "    <tr>\n",
       "      <th>26</th>\n",
       "      <td>Porsche 914-2</td>\n",
       "      <td>4.43</td>\n",
       "      <td>2.140</td>\n",
       "      <td>16.70</td>\n",
       "    </tr>\n",
       "    <tr>\n",
       "      <th>27</th>\n",
       "      <td>Lotus Europa</td>\n",
       "      <td>3.77</td>\n",
       "      <td>1.513</td>\n",
       "      <td>16.90</td>\n",
       "    </tr>\n",
       "    <tr>\n",
       "      <th>28</th>\n",
       "      <td>Ford Pantera L</td>\n",
       "      <td>4.22</td>\n",
       "      <td>3.170</td>\n",
       "      <td>14.50</td>\n",
       "    </tr>\n",
       "    <tr>\n",
       "      <th>29</th>\n",
       "      <td>Ferrari Dino</td>\n",
       "      <td>3.62</td>\n",
       "      <td>2.770</td>\n",
       "      <td>15.50</td>\n",
       "    </tr>\n",
       "    <tr>\n",
       "      <th>30</th>\n",
       "      <td>Maserati Bora</td>\n",
       "      <td>3.54</td>\n",
       "      <td>3.570</td>\n",
       "      <td>14.60</td>\n",
       "    </tr>\n",
       "    <tr>\n",
       "      <th>31</th>\n",
       "      <td>Volvo 142E</td>\n",
       "      <td>4.11</td>\n",
       "      <td>2.780</td>\n",
       "      <td>18.60</td>\n",
       "    </tr>\n",
       "  </tbody>\n",
       "</table>\n",
       "</div>"
      ],
      "text/plain": [
       "             Unnamed: 0  Points  Score  Weigh\n",
       "0             Mazda RX4    3.90  2.620  16.46\n",
       "1         Mazda RX4 Wag    3.90  2.875  17.02\n",
       "2            Datsun 710    3.85  2.320  18.61\n",
       "3        Hornet 4 Drive    3.08  3.215  19.44\n",
       "4     Hornet Sportabout    3.15  3.440  17.02\n",
       "5               Valiant    2.76  3.460  20.22\n",
       "6            Duster 360    3.21  3.570  15.84\n",
       "7             Merc 240D    3.69  3.190  20.00\n",
       "8              Merc 230    3.92  3.150  22.90\n",
       "9              Merc 280    3.92  3.440  18.30\n",
       "10            Merc 280C    3.92  3.440  18.90\n",
       "11           Merc 450SE    3.07  4.070  17.40\n",
       "12           Merc 450SL    3.07  3.730  17.60\n",
       "13          Merc 450SLC    3.07  3.780  18.00\n",
       "14   Cadillac Fleetwood    2.93  5.250  17.98\n",
       "15  Lincoln Continental    3.00  5.424  17.82\n",
       "16    Chrysler Imperial    3.23  5.345  17.42\n",
       "17             Fiat 128    4.08  2.200  19.47\n",
       "18          Honda Civic    4.93  1.615  18.52\n",
       "19       Toyota Corolla    4.22  1.835  19.90\n",
       "20        Toyota Corona    3.70  2.465  20.01\n",
       "21     Dodge Challenger    2.76  3.520  16.87\n",
       "22          AMC Javelin    3.15  3.435  17.30\n",
       "23           Camaro Z28    3.73  3.840  15.41\n",
       "24     Pontiac Firebird    3.08  3.845  17.05\n",
       "25            Fiat X1-9    4.08  1.935  18.90\n",
       "26        Porsche 914-2    4.43  2.140  16.70\n",
       "27         Lotus Europa    3.77  1.513  16.90\n",
       "28       Ford Pantera L    4.22  3.170  14.50\n",
       "29         Ferrari Dino    3.62  2.770  15.50\n",
       "30        Maserati Bora    3.54  3.570  14.60\n",
       "31           Volvo 142E    4.11  2.780  18.60"
      ]
     },
     "execution_count": 3,
     "metadata": {},
     "output_type": "execute_result"
    }
   ],
   "source": [
    "df=pd.read_csv('Q7.csv')\n",
    "df"
   ]
  },
  {
   "cell_type": "code",
   "execution_count": 4,
   "id": "dda76a2a",
   "metadata": {
    "ExecuteTime": {
     "end_time": "2023-02-06T14:56:53.061554Z",
     "start_time": "2023-02-06T14:56:53.007836Z"
    }
   },
   "outputs": [
    {
     "data": {
      "text/html": [
       "<div>\n",
       "<style scoped>\n",
       "    .dataframe tbody tr th:only-of-type {\n",
       "        vertical-align: middle;\n",
       "    }\n",
       "\n",
       "    .dataframe tbody tr th {\n",
       "        vertical-align: top;\n",
       "    }\n",
       "\n",
       "    .dataframe thead th {\n",
       "        text-align: right;\n",
       "    }\n",
       "</style>\n",
       "<table border=\"1\" class=\"dataframe\">\n",
       "  <thead>\n",
       "    <tr style=\"text-align: right;\">\n",
       "      <th></th>\n",
       "      <th>Unnamed: 0</th>\n",
       "      <th>Points</th>\n",
       "      <th>Score</th>\n",
       "      <th>Weigh</th>\n",
       "    </tr>\n",
       "  </thead>\n",
       "  <tbody>\n",
       "    <tr>\n",
       "      <th>0</th>\n",
       "      <td>Mazda RX4</td>\n",
       "      <td>3.90</td>\n",
       "      <td>2.620</td>\n",
       "      <td>16.46</td>\n",
       "    </tr>\n",
       "    <tr>\n",
       "      <th>1</th>\n",
       "      <td>Mazda RX4 Wag</td>\n",
       "      <td>3.90</td>\n",
       "      <td>2.875</td>\n",
       "      <td>17.02</td>\n",
       "    </tr>\n",
       "    <tr>\n",
       "      <th>2</th>\n",
       "      <td>Datsun 710</td>\n",
       "      <td>3.85</td>\n",
       "      <td>2.320</td>\n",
       "      <td>18.61</td>\n",
       "    </tr>\n",
       "    <tr>\n",
       "      <th>3</th>\n",
       "      <td>Hornet 4 Drive</td>\n",
       "      <td>3.08</td>\n",
       "      <td>3.215</td>\n",
       "      <td>19.44</td>\n",
       "    </tr>\n",
       "    <tr>\n",
       "      <th>4</th>\n",
       "      <td>Hornet Sportabout</td>\n",
       "      <td>3.15</td>\n",
       "      <td>3.440</td>\n",
       "      <td>17.02</td>\n",
       "    </tr>\n",
       "  </tbody>\n",
       "</table>\n",
       "</div>"
      ],
      "text/plain": [
       "          Unnamed: 0  Points  Score  Weigh\n",
       "0          Mazda RX4    3.90  2.620  16.46\n",
       "1      Mazda RX4 Wag    3.90  2.875  17.02\n",
       "2         Datsun 710    3.85  2.320  18.61\n",
       "3     Hornet 4 Drive    3.08  3.215  19.44\n",
       "4  Hornet Sportabout    3.15  3.440  17.02"
      ]
     },
     "execution_count": 4,
     "metadata": {},
     "output_type": "execute_result"
    }
   ],
   "source": [
    "df.head()"
   ]
  },
  {
   "cell_type": "code",
   "execution_count": 5,
   "id": "3dbfcb08",
   "metadata": {
    "ExecuteTime": {
     "end_time": "2023-02-06T14:56:53.106939Z",
     "start_time": "2023-02-06T14:56:53.073073Z"
    }
   },
   "outputs": [
    {
     "data": {
      "text/plain": [
       "(32, 4)"
      ]
     },
     "execution_count": 5,
     "metadata": {},
     "output_type": "execute_result"
    }
   ],
   "source": [
    "df.shape"
   ]
  },
  {
   "cell_type": "code",
   "execution_count": 6,
   "id": "69b9c7e5",
   "metadata": {
    "ExecuteTime": {
     "end_time": "2023-02-06T14:56:53.143970Z",
     "start_time": "2023-02-06T14:56:53.111018Z"
    }
   },
   "outputs": [
    {
     "data": {
      "text/plain": [
       "Unnamed: 0     object\n",
       "Points        float64\n",
       "Score         float64\n",
       "Weigh         float64\n",
       "dtype: object"
      ]
     },
     "execution_count": 6,
     "metadata": {},
     "output_type": "execute_result"
    }
   ],
   "source": [
    "df.dtypes"
   ]
  },
  {
   "cell_type": "code",
   "execution_count": 7,
   "id": "f4649c14",
   "metadata": {
    "ExecuteTime": {
     "end_time": "2023-02-06T14:56:53.859429Z",
     "start_time": "2023-02-06T14:56:53.763348Z"
    }
   },
   "outputs": [
    {
     "data": {
      "text/html": [
       "<div>\n",
       "<style scoped>\n",
       "    .dataframe tbody tr th:only-of-type {\n",
       "        vertical-align: middle;\n",
       "    }\n",
       "\n",
       "    .dataframe tbody tr th {\n",
       "        vertical-align: top;\n",
       "    }\n",
       "\n",
       "    .dataframe thead th {\n",
       "        text-align: right;\n",
       "    }\n",
       "</style>\n",
       "<table border=\"1\" class=\"dataframe\">\n",
       "  <thead>\n",
       "    <tr style=\"text-align: right;\">\n",
       "      <th></th>\n",
       "      <th>Points</th>\n",
       "      <th>Score</th>\n",
       "      <th>Weigh</th>\n",
       "    </tr>\n",
       "  </thead>\n",
       "  <tbody>\n",
       "    <tr>\n",
       "      <th>0</th>\n",
       "      <td>3.90</td>\n",
       "      <td>2.620</td>\n",
       "      <td>16.46</td>\n",
       "    </tr>\n",
       "    <tr>\n",
       "      <th>1</th>\n",
       "      <td>3.90</td>\n",
       "      <td>2.875</td>\n",
       "      <td>17.02</td>\n",
       "    </tr>\n",
       "    <tr>\n",
       "      <th>2</th>\n",
       "      <td>3.85</td>\n",
       "      <td>2.320</td>\n",
       "      <td>18.61</td>\n",
       "    </tr>\n",
       "    <tr>\n",
       "      <th>3</th>\n",
       "      <td>3.08</td>\n",
       "      <td>3.215</td>\n",
       "      <td>19.44</td>\n",
       "    </tr>\n",
       "    <tr>\n",
       "      <th>4</th>\n",
       "      <td>3.15</td>\n",
       "      <td>3.440</td>\n",
       "      <td>17.02</td>\n",
       "    </tr>\n",
       "    <tr>\n",
       "      <th>5</th>\n",
       "      <td>2.76</td>\n",
       "      <td>3.460</td>\n",
       "      <td>20.22</td>\n",
       "    </tr>\n",
       "    <tr>\n",
       "      <th>6</th>\n",
       "      <td>3.21</td>\n",
       "      <td>3.570</td>\n",
       "      <td>15.84</td>\n",
       "    </tr>\n",
       "    <tr>\n",
       "      <th>7</th>\n",
       "      <td>3.69</td>\n",
       "      <td>3.190</td>\n",
       "      <td>20.00</td>\n",
       "    </tr>\n",
       "    <tr>\n",
       "      <th>8</th>\n",
       "      <td>3.92</td>\n",
       "      <td>3.150</td>\n",
       "      <td>22.90</td>\n",
       "    </tr>\n",
       "    <tr>\n",
       "      <th>9</th>\n",
       "      <td>3.92</td>\n",
       "      <td>3.440</td>\n",
       "      <td>18.30</td>\n",
       "    </tr>\n",
       "    <tr>\n",
       "      <th>10</th>\n",
       "      <td>3.92</td>\n",
       "      <td>3.440</td>\n",
       "      <td>18.90</td>\n",
       "    </tr>\n",
       "    <tr>\n",
       "      <th>11</th>\n",
       "      <td>3.07</td>\n",
       "      <td>4.070</td>\n",
       "      <td>17.40</td>\n",
       "    </tr>\n",
       "    <tr>\n",
       "      <th>12</th>\n",
       "      <td>3.07</td>\n",
       "      <td>3.730</td>\n",
       "      <td>17.60</td>\n",
       "    </tr>\n",
       "    <tr>\n",
       "      <th>13</th>\n",
       "      <td>3.07</td>\n",
       "      <td>3.780</td>\n",
       "      <td>18.00</td>\n",
       "    </tr>\n",
       "    <tr>\n",
       "      <th>14</th>\n",
       "      <td>2.93</td>\n",
       "      <td>5.250</td>\n",
       "      <td>17.98</td>\n",
       "    </tr>\n",
       "    <tr>\n",
       "      <th>15</th>\n",
       "      <td>3.00</td>\n",
       "      <td>5.424</td>\n",
       "      <td>17.82</td>\n",
       "    </tr>\n",
       "    <tr>\n",
       "      <th>16</th>\n",
       "      <td>3.23</td>\n",
       "      <td>5.345</td>\n",
       "      <td>17.42</td>\n",
       "    </tr>\n",
       "    <tr>\n",
       "      <th>17</th>\n",
       "      <td>4.08</td>\n",
       "      <td>2.200</td>\n",
       "      <td>19.47</td>\n",
       "    </tr>\n",
       "    <tr>\n",
       "      <th>18</th>\n",
       "      <td>4.93</td>\n",
       "      <td>1.615</td>\n",
       "      <td>18.52</td>\n",
       "    </tr>\n",
       "    <tr>\n",
       "      <th>19</th>\n",
       "      <td>4.22</td>\n",
       "      <td>1.835</td>\n",
       "      <td>19.90</td>\n",
       "    </tr>\n",
       "    <tr>\n",
       "      <th>20</th>\n",
       "      <td>3.70</td>\n",
       "      <td>2.465</td>\n",
       "      <td>20.01</td>\n",
       "    </tr>\n",
       "    <tr>\n",
       "      <th>21</th>\n",
       "      <td>2.76</td>\n",
       "      <td>3.520</td>\n",
       "      <td>16.87</td>\n",
       "    </tr>\n",
       "    <tr>\n",
       "      <th>22</th>\n",
       "      <td>3.15</td>\n",
       "      <td>3.435</td>\n",
       "      <td>17.30</td>\n",
       "    </tr>\n",
       "    <tr>\n",
       "      <th>23</th>\n",
       "      <td>3.73</td>\n",
       "      <td>3.840</td>\n",
       "      <td>15.41</td>\n",
       "    </tr>\n",
       "    <tr>\n",
       "      <th>24</th>\n",
       "      <td>3.08</td>\n",
       "      <td>3.845</td>\n",
       "      <td>17.05</td>\n",
       "    </tr>\n",
       "    <tr>\n",
       "      <th>25</th>\n",
       "      <td>4.08</td>\n",
       "      <td>1.935</td>\n",
       "      <td>18.90</td>\n",
       "    </tr>\n",
       "    <tr>\n",
       "      <th>26</th>\n",
       "      <td>4.43</td>\n",
       "      <td>2.140</td>\n",
       "      <td>16.70</td>\n",
       "    </tr>\n",
       "    <tr>\n",
       "      <th>27</th>\n",
       "      <td>3.77</td>\n",
       "      <td>1.513</td>\n",
       "      <td>16.90</td>\n",
       "    </tr>\n",
       "    <tr>\n",
       "      <th>28</th>\n",
       "      <td>4.22</td>\n",
       "      <td>3.170</td>\n",
       "      <td>14.50</td>\n",
       "    </tr>\n",
       "    <tr>\n",
       "      <th>29</th>\n",
       "      <td>3.62</td>\n",
       "      <td>2.770</td>\n",
       "      <td>15.50</td>\n",
       "    </tr>\n",
       "    <tr>\n",
       "      <th>30</th>\n",
       "      <td>3.54</td>\n",
       "      <td>3.570</td>\n",
       "      <td>14.60</td>\n",
       "    </tr>\n",
       "    <tr>\n",
       "      <th>31</th>\n",
       "      <td>4.11</td>\n",
       "      <td>2.780</td>\n",
       "      <td>18.60</td>\n",
       "    </tr>\n",
       "  </tbody>\n",
       "</table>\n",
       "</div>"
      ],
      "text/plain": [
       "    Points  Score  Weigh\n",
       "0     3.90  2.620  16.46\n",
       "1     3.90  2.875  17.02\n",
       "2     3.85  2.320  18.61\n",
       "3     3.08  3.215  19.44\n",
       "4     3.15  3.440  17.02\n",
       "5     2.76  3.460  20.22\n",
       "6     3.21  3.570  15.84\n",
       "7     3.69  3.190  20.00\n",
       "8     3.92  3.150  22.90\n",
       "9     3.92  3.440  18.30\n",
       "10    3.92  3.440  18.90\n",
       "11    3.07  4.070  17.40\n",
       "12    3.07  3.730  17.60\n",
       "13    3.07  3.780  18.00\n",
       "14    2.93  5.250  17.98\n",
       "15    3.00  5.424  17.82\n",
       "16    3.23  5.345  17.42\n",
       "17    4.08  2.200  19.47\n",
       "18    4.93  1.615  18.52\n",
       "19    4.22  1.835  19.90\n",
       "20    3.70  2.465  20.01\n",
       "21    2.76  3.520  16.87\n",
       "22    3.15  3.435  17.30\n",
       "23    3.73  3.840  15.41\n",
       "24    3.08  3.845  17.05\n",
       "25    4.08  1.935  18.90\n",
       "26    4.43  2.140  16.70\n",
       "27    3.77  1.513  16.90\n",
       "28    4.22  3.170  14.50\n",
       "29    3.62  2.770  15.50\n",
       "30    3.54  3.570  14.60\n",
       "31    4.11  2.780  18.60"
      ]
     },
     "execution_count": 7,
     "metadata": {},
     "output_type": "execute_result"
    }
   ],
   "source": [
    "#to make a different strings which helps in findings.\n",
    "df[['Points','Score','Weigh']]"
   ]
  },
  {
   "cell_type": "code",
   "execution_count": 8,
   "id": "070d0bef",
   "metadata": {
    "ExecuteTime": {
     "end_time": "2023-02-06T14:56:54.325124Z",
     "start_time": "2023-02-06T14:56:54.283913Z"
    }
   },
   "outputs": [
    {
     "data": {
      "text/plain": [
       "3.5965625000000006"
      ]
     },
     "execution_count": 8,
     "metadata": {},
     "output_type": "execute_result"
    }
   ],
   "source": [
    "import warnings\n",
    "warnings.filterwarnings('ignore')\n",
    "#mean of points\n",
    "df['Points'].mean()"
   ]
  },
  {
   "cell_type": "code",
   "execution_count": 9,
   "id": "4ae38da1",
   "metadata": {
    "ExecuteTime": {
     "end_time": "2023-02-06T14:56:55.042079Z",
     "start_time": "2023-02-06T14:56:55.001095Z"
    }
   },
   "outputs": [
    {
     "data": {
      "text/plain": [
       "3.2172499999999995"
      ]
     },
     "execution_count": 9,
     "metadata": {},
     "output_type": "execute_result"
    }
   ],
   "source": [
    "#mean of score\n",
    "df['Score'].mean()"
   ]
  },
  {
   "cell_type": "code",
   "execution_count": 10,
   "id": "0adf28b7",
   "metadata": {
    "ExecuteTime": {
     "end_time": "2023-02-06T14:56:55.748409Z",
     "start_time": "2023-02-06T14:56:55.715391Z"
    }
   },
   "outputs": [
    {
     "data": {
      "text/plain": [
       "17.848750000000003"
      ]
     },
     "execution_count": 10,
     "metadata": {},
     "output_type": "execute_result"
    }
   ],
   "source": [
    "#mean of weigh\n",
    "df['Weigh'].mean()"
   ]
  },
  {
   "cell_type": "code",
   "execution_count": 11,
   "id": "1f3ee19d",
   "metadata": {
    "ExecuteTime": {
     "end_time": "2023-02-06T14:56:56.271849Z",
     "start_time": "2023-02-06T14:56:56.239853Z"
    }
   },
   "outputs": [
    {
     "data": {
      "text/plain": [
       "3.6950000000000003"
      ]
     },
     "execution_count": 11,
     "metadata": {},
     "output_type": "execute_result"
    }
   ],
   "source": [
    "#median of points \n",
    "df['Points'].median()"
   ]
  },
  {
   "cell_type": "code",
   "execution_count": 12,
   "id": "e1a114ff",
   "metadata": {
    "ExecuteTime": {
     "end_time": "2023-02-06T14:56:56.916772Z",
     "start_time": "2023-02-06T14:56:56.884591Z"
    }
   },
   "outputs": [
    {
     "data": {
      "text/plain": [
       "3.325"
      ]
     },
     "execution_count": 12,
     "metadata": {},
     "output_type": "execute_result"
    }
   ],
   "source": [
    "#median of score\n",
    "df['Score'].median()"
   ]
  },
  {
   "cell_type": "code",
   "execution_count": 13,
   "id": "daff0dfe",
   "metadata": {
    "ExecuteTime": {
     "end_time": "2023-02-06T14:56:57.395464Z",
     "start_time": "2023-02-06T14:56:57.362337Z"
    }
   },
   "outputs": [
    {
     "data": {
      "text/plain": [
       "17.71"
      ]
     },
     "execution_count": 13,
     "metadata": {},
     "output_type": "execute_result"
    }
   ],
   "source": [
    "#median of weigh\n",
    "df['Weigh'].median()"
   ]
  },
  {
   "cell_type": "code",
   "execution_count": 14,
   "id": "848ed8b1",
   "metadata": {
    "ExecuteTime": {
     "end_time": "2023-02-06T14:56:58.015908Z",
     "start_time": "2023-02-06T14:56:57.966478Z"
    }
   },
   "outputs": [
    {
     "data": {
      "text/plain": [
       "0    3.07\n",
       "1    3.92\n",
       "Name: Points, dtype: float64"
      ]
     },
     "execution_count": 14,
     "metadata": {},
     "output_type": "execute_result"
    }
   ],
   "source": [
    "#mode of points\n",
    "df['Points'].mode()"
   ]
  },
  {
   "cell_type": "code",
   "execution_count": 15,
   "id": "be8b16e6",
   "metadata": {
    "ExecuteTime": {
     "end_time": "2023-02-06T14:56:58.586473Z",
     "start_time": "2023-02-06T14:56:58.551990Z"
    }
   },
   "outputs": [
    {
     "data": {
      "text/plain": [
       "0    3.44\n",
       "Name: Score, dtype: float64"
      ]
     },
     "execution_count": 15,
     "metadata": {},
     "output_type": "execute_result"
    }
   ],
   "source": [
    "#mode of score\n",
    "df['Score'].mode()"
   ]
  },
  {
   "cell_type": "code",
   "execution_count": 16,
   "id": "5f1dbab0",
   "metadata": {
    "ExecuteTime": {
     "end_time": "2023-02-06T14:56:59.481000Z",
     "start_time": "2023-02-06T14:56:59.454383Z"
    }
   },
   "outputs": [
    {
     "data": {
      "text/plain": [
       "0    17.02\n",
       "1    18.90\n",
       "Name: Weigh, dtype: float64"
      ]
     },
     "execution_count": 16,
     "metadata": {},
     "output_type": "execute_result"
    }
   ],
   "source": [
    "#mode of weigh\n",
    "df['Weigh'].mode()"
   ]
  },
  {
   "cell_type": "code",
   "execution_count": 17,
   "id": "6e297938",
   "metadata": {
    "ExecuteTime": {
     "end_time": "2023-02-06T14:57:00.483883Z",
     "start_time": "2023-02-06T14:57:00.420724Z"
    }
   },
   "outputs": [
    {
     "data": {
      "text/html": [
       "<div>\n",
       "<style scoped>\n",
       "    .dataframe tbody tr th:only-of-type {\n",
       "        vertical-align: middle;\n",
       "    }\n",
       "\n",
       "    .dataframe tbody tr th {\n",
       "        vertical-align: top;\n",
       "    }\n",
       "\n",
       "    .dataframe thead th {\n",
       "        text-align: right;\n",
       "    }\n",
       "</style>\n",
       "<table border=\"1\" class=\"dataframe\">\n",
       "  <thead>\n",
       "    <tr style=\"text-align: right;\">\n",
       "      <th></th>\n",
       "      <th>Unnamed: 0</th>\n",
       "      <th>Points</th>\n",
       "      <th>Score</th>\n",
       "      <th>Weigh</th>\n",
       "    </tr>\n",
       "  </thead>\n",
       "  <tbody>\n",
       "    <tr>\n",
       "      <th>0</th>\n",
       "      <td>AMC Javelin</td>\n",
       "      <td>3.07</td>\n",
       "      <td>3.44</td>\n",
       "      <td>17.02</td>\n",
       "    </tr>\n",
       "    <tr>\n",
       "      <th>1</th>\n",
       "      <td>Cadillac Fleetwood</td>\n",
       "      <td>3.92</td>\n",
       "      <td>NaN</td>\n",
       "      <td>18.90</td>\n",
       "    </tr>\n",
       "    <tr>\n",
       "      <th>2</th>\n",
       "      <td>Camaro Z28</td>\n",
       "      <td>NaN</td>\n",
       "      <td>NaN</td>\n",
       "      <td>NaN</td>\n",
       "    </tr>\n",
       "    <tr>\n",
       "      <th>3</th>\n",
       "      <td>Chrysler Imperial</td>\n",
       "      <td>NaN</td>\n",
       "      <td>NaN</td>\n",
       "      <td>NaN</td>\n",
       "    </tr>\n",
       "    <tr>\n",
       "      <th>4</th>\n",
       "      <td>Datsun 710</td>\n",
       "      <td>NaN</td>\n",
       "      <td>NaN</td>\n",
       "      <td>NaN</td>\n",
       "    </tr>\n",
       "    <tr>\n",
       "      <th>5</th>\n",
       "      <td>Dodge Challenger</td>\n",
       "      <td>NaN</td>\n",
       "      <td>NaN</td>\n",
       "      <td>NaN</td>\n",
       "    </tr>\n",
       "    <tr>\n",
       "      <th>6</th>\n",
       "      <td>Duster 360</td>\n",
       "      <td>NaN</td>\n",
       "      <td>NaN</td>\n",
       "      <td>NaN</td>\n",
       "    </tr>\n",
       "    <tr>\n",
       "      <th>7</th>\n",
       "      <td>Ferrari Dino</td>\n",
       "      <td>NaN</td>\n",
       "      <td>NaN</td>\n",
       "      <td>NaN</td>\n",
       "    </tr>\n",
       "    <tr>\n",
       "      <th>8</th>\n",
       "      <td>Fiat 128</td>\n",
       "      <td>NaN</td>\n",
       "      <td>NaN</td>\n",
       "      <td>NaN</td>\n",
       "    </tr>\n",
       "    <tr>\n",
       "      <th>9</th>\n",
       "      <td>Fiat X1-9</td>\n",
       "      <td>NaN</td>\n",
       "      <td>NaN</td>\n",
       "      <td>NaN</td>\n",
       "    </tr>\n",
       "    <tr>\n",
       "      <th>10</th>\n",
       "      <td>Ford Pantera L</td>\n",
       "      <td>NaN</td>\n",
       "      <td>NaN</td>\n",
       "      <td>NaN</td>\n",
       "    </tr>\n",
       "    <tr>\n",
       "      <th>11</th>\n",
       "      <td>Honda Civic</td>\n",
       "      <td>NaN</td>\n",
       "      <td>NaN</td>\n",
       "      <td>NaN</td>\n",
       "    </tr>\n",
       "    <tr>\n",
       "      <th>12</th>\n",
       "      <td>Hornet 4 Drive</td>\n",
       "      <td>NaN</td>\n",
       "      <td>NaN</td>\n",
       "      <td>NaN</td>\n",
       "    </tr>\n",
       "    <tr>\n",
       "      <th>13</th>\n",
       "      <td>Hornet Sportabout</td>\n",
       "      <td>NaN</td>\n",
       "      <td>NaN</td>\n",
       "      <td>NaN</td>\n",
       "    </tr>\n",
       "    <tr>\n",
       "      <th>14</th>\n",
       "      <td>Lincoln Continental</td>\n",
       "      <td>NaN</td>\n",
       "      <td>NaN</td>\n",
       "      <td>NaN</td>\n",
       "    </tr>\n",
       "    <tr>\n",
       "      <th>15</th>\n",
       "      <td>Lotus Europa</td>\n",
       "      <td>NaN</td>\n",
       "      <td>NaN</td>\n",
       "      <td>NaN</td>\n",
       "    </tr>\n",
       "    <tr>\n",
       "      <th>16</th>\n",
       "      <td>Maserati Bora</td>\n",
       "      <td>NaN</td>\n",
       "      <td>NaN</td>\n",
       "      <td>NaN</td>\n",
       "    </tr>\n",
       "    <tr>\n",
       "      <th>17</th>\n",
       "      <td>Mazda RX4</td>\n",
       "      <td>NaN</td>\n",
       "      <td>NaN</td>\n",
       "      <td>NaN</td>\n",
       "    </tr>\n",
       "    <tr>\n",
       "      <th>18</th>\n",
       "      <td>Mazda RX4 Wag</td>\n",
       "      <td>NaN</td>\n",
       "      <td>NaN</td>\n",
       "      <td>NaN</td>\n",
       "    </tr>\n",
       "    <tr>\n",
       "      <th>19</th>\n",
       "      <td>Merc 230</td>\n",
       "      <td>NaN</td>\n",
       "      <td>NaN</td>\n",
       "      <td>NaN</td>\n",
       "    </tr>\n",
       "    <tr>\n",
       "      <th>20</th>\n",
       "      <td>Merc 240D</td>\n",
       "      <td>NaN</td>\n",
       "      <td>NaN</td>\n",
       "      <td>NaN</td>\n",
       "    </tr>\n",
       "    <tr>\n",
       "      <th>21</th>\n",
       "      <td>Merc 280</td>\n",
       "      <td>NaN</td>\n",
       "      <td>NaN</td>\n",
       "      <td>NaN</td>\n",
       "    </tr>\n",
       "    <tr>\n",
       "      <th>22</th>\n",
       "      <td>Merc 280C</td>\n",
       "      <td>NaN</td>\n",
       "      <td>NaN</td>\n",
       "      <td>NaN</td>\n",
       "    </tr>\n",
       "    <tr>\n",
       "      <th>23</th>\n",
       "      <td>Merc 450SE</td>\n",
       "      <td>NaN</td>\n",
       "      <td>NaN</td>\n",
       "      <td>NaN</td>\n",
       "    </tr>\n",
       "    <tr>\n",
       "      <th>24</th>\n",
       "      <td>Merc 450SL</td>\n",
       "      <td>NaN</td>\n",
       "      <td>NaN</td>\n",
       "      <td>NaN</td>\n",
       "    </tr>\n",
       "    <tr>\n",
       "      <th>25</th>\n",
       "      <td>Merc 450SLC</td>\n",
       "      <td>NaN</td>\n",
       "      <td>NaN</td>\n",
       "      <td>NaN</td>\n",
       "    </tr>\n",
       "    <tr>\n",
       "      <th>26</th>\n",
       "      <td>Pontiac Firebird</td>\n",
       "      <td>NaN</td>\n",
       "      <td>NaN</td>\n",
       "      <td>NaN</td>\n",
       "    </tr>\n",
       "    <tr>\n",
       "      <th>27</th>\n",
       "      <td>Porsche 914-2</td>\n",
       "      <td>NaN</td>\n",
       "      <td>NaN</td>\n",
       "      <td>NaN</td>\n",
       "    </tr>\n",
       "    <tr>\n",
       "      <th>28</th>\n",
       "      <td>Toyota Corolla</td>\n",
       "      <td>NaN</td>\n",
       "      <td>NaN</td>\n",
       "      <td>NaN</td>\n",
       "    </tr>\n",
       "    <tr>\n",
       "      <th>29</th>\n",
       "      <td>Toyota Corona</td>\n",
       "      <td>NaN</td>\n",
       "      <td>NaN</td>\n",
       "      <td>NaN</td>\n",
       "    </tr>\n",
       "    <tr>\n",
       "      <th>30</th>\n",
       "      <td>Valiant</td>\n",
       "      <td>NaN</td>\n",
       "      <td>NaN</td>\n",
       "      <td>NaN</td>\n",
       "    </tr>\n",
       "    <tr>\n",
       "      <th>31</th>\n",
       "      <td>Volvo 142E</td>\n",
       "      <td>NaN</td>\n",
       "      <td>NaN</td>\n",
       "      <td>NaN</td>\n",
       "    </tr>\n",
       "  </tbody>\n",
       "</table>\n",
       "</div>"
      ],
      "text/plain": [
       "             Unnamed: 0  Points  Score  Weigh\n",
       "0           AMC Javelin    3.07   3.44  17.02\n",
       "1    Cadillac Fleetwood    3.92    NaN  18.90\n",
       "2            Camaro Z28     NaN    NaN    NaN\n",
       "3     Chrysler Imperial     NaN    NaN    NaN\n",
       "4            Datsun 710     NaN    NaN    NaN\n",
       "5      Dodge Challenger     NaN    NaN    NaN\n",
       "6            Duster 360     NaN    NaN    NaN\n",
       "7          Ferrari Dino     NaN    NaN    NaN\n",
       "8              Fiat 128     NaN    NaN    NaN\n",
       "9             Fiat X1-9     NaN    NaN    NaN\n",
       "10       Ford Pantera L     NaN    NaN    NaN\n",
       "11          Honda Civic     NaN    NaN    NaN\n",
       "12       Hornet 4 Drive     NaN    NaN    NaN\n",
       "13    Hornet Sportabout     NaN    NaN    NaN\n",
       "14  Lincoln Continental     NaN    NaN    NaN\n",
       "15         Lotus Europa     NaN    NaN    NaN\n",
       "16        Maserati Bora     NaN    NaN    NaN\n",
       "17            Mazda RX4     NaN    NaN    NaN\n",
       "18        Mazda RX4 Wag     NaN    NaN    NaN\n",
       "19             Merc 230     NaN    NaN    NaN\n",
       "20            Merc 240D     NaN    NaN    NaN\n",
       "21             Merc 280     NaN    NaN    NaN\n",
       "22            Merc 280C     NaN    NaN    NaN\n",
       "23           Merc 450SE     NaN    NaN    NaN\n",
       "24           Merc 450SL     NaN    NaN    NaN\n",
       "25          Merc 450SLC     NaN    NaN    NaN\n",
       "26     Pontiac Firebird     NaN    NaN    NaN\n",
       "27        Porsche 914-2     NaN    NaN    NaN\n",
       "28       Toyota Corolla     NaN    NaN    NaN\n",
       "29        Toyota Corona     NaN    NaN    NaN\n",
       "30              Valiant     NaN    NaN    NaN\n",
       "31           Volvo 142E     NaN    NaN    NaN"
      ]
     },
     "execution_count": 17,
     "metadata": {},
     "output_type": "execute_result"
    }
   ],
   "source": [
    "df.mode()"
   ]
  },
  {
   "cell_type": "code",
   "execution_count": 49,
   "id": "5ff1665e",
   "metadata": {
    "ExecuteTime": {
     "end_time": "2023-02-05T06:54:45.469732Z",
     "start_time": "2023-02-05T06:54:45.455787Z"
    }
   },
   "outputs": [
    {
     "data": {
      "text/plain": [
       "0.5346787360709716"
      ]
     },
     "execution_count": 49,
     "metadata": {},
     "output_type": "execute_result"
    }
   ],
   "source": [
    "#standard deviation of points\n",
    "df['Points'].std()"
   ]
  },
  {
   "cell_type": "code",
   "execution_count": 50,
   "id": "772c3d32",
   "metadata": {
    "ExecuteTime": {
     "end_time": "2023-02-05T06:55:05.591983Z",
     "start_time": "2023-02-05T06:55:05.575214Z"
    }
   },
   "outputs": [
    {
     "data": {
      "text/plain": [
       "0.9784574429896967"
      ]
     },
     "execution_count": 50,
     "metadata": {},
     "output_type": "execute_result"
    }
   ],
   "source": [
    "#standard deviation of score\n",
    "df['Score'].std()"
   ]
  },
  {
   "cell_type": "code",
   "execution_count": 51,
   "id": "3bd0cab7",
   "metadata": {
    "ExecuteTime": {
     "end_time": "2023-02-05T06:55:23.138178Z",
     "start_time": "2023-02-05T06:55:23.118609Z"
    }
   },
   "outputs": [
    {
     "data": {
      "text/plain": [
       "1.7869432360968431"
      ]
     },
     "execution_count": 51,
     "metadata": {},
     "output_type": "execute_result"
    }
   ],
   "source": [
    "#standard deviation of weigh\n",
    "df['Weigh'].std()"
   ]
  },
  {
   "cell_type": "code",
   "execution_count": 52,
   "id": "4ab1a32e",
   "metadata": {
    "ExecuteTime": {
     "end_time": "2023-02-05T06:55:40.851823Z",
     "start_time": "2023-02-05T06:55:40.842479Z"
    }
   },
   "outputs": [
    {
     "data": {
      "text/plain": [
       "0.28588135080645166"
      ]
     },
     "execution_count": 52,
     "metadata": {},
     "output_type": "execute_result"
    }
   ],
   "source": [
    "#variance of points\n",
    "df['Points'].var()"
   ]
  },
  {
   "cell_type": "code",
   "execution_count": 53,
   "id": "f828c516",
   "metadata": {
    "ExecuteTime": {
     "end_time": "2023-02-05T06:55:56.847013Z",
     "start_time": "2023-02-05T06:55:56.832113Z"
    }
   },
   "outputs": [
    {
     "data": {
      "text/plain": [
       "0.9573789677419356"
      ]
     },
     "execution_count": 53,
     "metadata": {},
     "output_type": "execute_result"
    }
   ],
   "source": [
    "#variance of score\n",
    "df['Score'].var()"
   ]
  },
  {
   "cell_type": "code",
   "execution_count": 54,
   "id": "1fa3c22d",
   "metadata": {
    "ExecuteTime": {
     "end_time": "2023-02-05T06:56:16.018988Z",
     "start_time": "2023-02-05T06:56:16.000510Z"
    }
   },
   "outputs": [
    {
     "data": {
      "text/plain": [
       "3.193166129032258"
      ]
     },
     "execution_count": 54,
     "metadata": {},
     "output_type": "execute_result"
    }
   ],
   "source": [
    "#variance of weigh\n",
    "df['Weigh'].var()"
   ]
  },
  {
   "cell_type": "code",
   "execution_count": 66,
   "id": "19997a38",
   "metadata": {
    "ExecuteTime": {
     "end_time": "2023-02-05T07:08:33.638959Z",
     "start_time": "2023-02-05T07:08:33.454811Z"
    }
   },
   "outputs": [
    {
     "data": {
      "image/png": "[encoded data removed]",
      "text/plain": [
       "<Figure size 640x480 with 1 Axes>"
      ]
     },
     "metadata": {},
     "output_type": "display_data"
    }
   ],
   "source": [
    "import matplotlib.pyplot as plt\n",
    "import seaborn as sns\n",
    "plt.hist(df['Points'])\n",
    "plt.show()"
   ]
  },
  {
   "cell_type": "code",
   "execution_count": 68,
   "id": "743c3a79",
   "metadata": {
    "ExecuteTime": {
     "end_time": "2023-02-05T07:08:52.294202Z",
     "start_time": "2023-02-05T07:08:52.149905Z"
    }
   },
   "outputs": [
    {
     "data": {
      "image/png": "[encoded data removed]",
      "text/plain": [
       "<Figure size 640x480 with 1 Axes>"
      ]
     },
     "metadata": {},
     "output_type": "display_data"
    }
   ],
   "source": [
    "sns.boxplot(df['Points'])\n",
    "plt.show()"
   ]
  },
  {
   "cell_type": "code",
   "execution_count": 69,
   "id": "e7e16b22",
   "metadata": {
    "ExecuteTime": {
     "end_time": "2023-02-05T07:26:19.507197Z",
     "start_time": "2023-02-05T07:26:19.318390Z"
    }
   },
   "outputs": [
    {
     "data": {
      "text/plain": [
       "(array([3., 3., 3., 3., 9., 7., 1., 0., 0., 3.]),\n",
       " array([1.513 , 1.9041, 2.2952, 2.6863, 3.0774, 3.4685, 3.8596, 4.2507,\n",
       "        4.6418, 5.0329, 5.424 ]),\n",
       " <BarContainer object of 10 artists>)"
      ]
     },
     "execution_count": 69,
     "metadata": {},
     "output_type": "execute_result"
    },
    {
     "data": {
      "image/png": "[encoded data removed]",
      "text/plain": [
       "<Figure size 640x480 with 1 Axes>"
      ]
     },
     "metadata": {},
     "output_type": "display_data"
    }
   ],
   "source": [
    "plt.hist(df['Score'])"
   ]
  },
  {
   "cell_type": "code",
   "execution_count": 70,
   "id": "5cf94cc4",
   "metadata": {
    "ExecuteTime": {
     "end_time": "2023-02-05T07:26:42.734681Z",
     "start_time": "2023-02-05T07:26:42.559472Z"
    }
   },
   "outputs": [
    {
     "data": {
      "text/plain": [
       "(array([2., 3., 4., 8., 6., 4., 4., 0., 0., 1.]),\n",
       " array([14.5 , 15.34, 16.18, 17.02, 17.86, 18.7 , 19.54, 20.38, 21.22,\n",
       "        22.06, 22.9 ]),\n",
       " <BarContainer object of 10 artists>)"
      ]
     },
     "execution_count": 70,
     "metadata": {},
     "output_type": "execute_result"
    },
    {
     "data": {
      "image/png": "[encoded data removed]",
      "text/plain": [
       "<Figure size 640x480 with 1 Axes>"
      ]
     },
     "metadata": {},
     "output_type": "display_data"
    }
   ],
   "source": [
    "plt.hist(df['Weigh'])"
   ]
  },
  {
   "cell_type": "code",
   "execution_count": 71,
   "id": "f7372874",
   "metadata": {
    "ExecuteTime": {
     "end_time": "2023-02-05T07:27:10.829631Z",
     "start_time": "2023-02-05T07:27:10.675971Z"
    }
   },
   "outputs": [
    {
     "data": {
      "image/png": "[encoded data removed]",
      "text/plain": [
       "<Figure size 640x480 with 1 Axes>"
      ]
     },
     "metadata": {},
     "output_type": "display_data"
    }
   ],
   "source": [
    "sns.boxplot(df['Weigh'])\n",
    "plt.show()"
   ]
  },
  {
   "cell_type": "code",
   "execution_count": 72,
   "id": "cd65a25a",
   "metadata": {
    "ExecuteTime": {
     "end_time": "2023-02-05T07:27:42.536314Z",
     "start_time": "2023-02-05T07:27:42.385368Z"
    }
   },
   "outputs": [
    {
     "data": {
      "image/png": "[encoded data removed]",
      "text/plain": [
       "<Figure size 640x480 with 1 Axes>"
      ]
     },
     "metadata": {},
     "output_type": "display_data"
    }
   ],
   "source": [
    "sns.boxplot(df['Score'])\n",
    "plt.show()"
   ]
  },
  {
   "cell_type": "code",
   "execution_count": null,
   "id": "c2034b31",
   "metadata": {},
   "outputs": [],
   "source": [
    "how to find a range in this??"
   ]
  }
 ],
 "metadata": {
  "kernelspec": {
   "display_name": "Python 3 (ipykernel)",
   "language": "python",
   "name": "python3"
  },
  "language_info": {
   "codemirror_mode": {
    "name": "ipython",
    "version": 3
   },
   "file_extension": ".py",
   "mimetype": "text/x-python",
   "name": "python",
   "nbconvert_exporter": "python",
   "pygments_lexer": "ipython3",
   "version": "3.9.13"
  }
 },
 "nbformat": 4,
 "nbformat_minor": 5
}
